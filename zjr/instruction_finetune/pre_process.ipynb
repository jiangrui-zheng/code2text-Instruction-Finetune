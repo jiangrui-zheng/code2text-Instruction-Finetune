{
 "cells": [
  {
   "cell_type": "code",
   "execution_count": null,
   "metadata": {},
   "outputs": [],
   "source": [
    "from transformers import RobertaTokenizer, RobertaForMaskedLM, Trainer, TrainingArguments\n",
    "import pandas as pd\n",
    "from datasets import Dataset\n",
    "\n",
    "# Load the JSON file into a DataFrame\n",
    "train_df = pd.read_json('/workspace/instruct_finetune_llama/output_Dataset_train.json')\n",
    "\n",
    "# Transpose if necessary (as per your previous code)\n",
    "train_df = train_df.transpose()\n",
    "\n",
    "# Extract relevant columns for inputs (code diff) and labels (CVE description)\n",
    "train_df['code_diff'] = train_df['diff_tokens'].apply(lambda x: ' '.join(x))  # Joining tokens for code diffs\n",
    "train_df['cve_desc'] = train_df['cve_desc_tokens'].apply(lambda x: ' '.join(x))  # Joining tokens for CVE descriptions\n",
    "\n",
    "# Convert the DataFrame to a Hugging Face Dataset\n",
    "train_dataset_ = Dataset.from_pandas(train_df[['code_diff', 'cve_desc']])\n",
    "print(train_dataset_)"
   ]
  },
  {
   "cell_type": "code",
   "execution_count": null,
   "metadata": {},
   "outputs": [],
   "source": [
    "import re\n",
    "\n",
    "# Function to combine the instruction with the code diff\n",
    "def combine_instruction_and_diff(instruction, code_diff):\n",
    "    return f\"{instruction}\\nCode Diff:\\n{code_diff}\"\n",
    "\n",
    "# Function to extract CVE identifier\n",
    "def extract_cve(cve_string):\n",
    "    match = re.match(r'(CVE-\\d{4}-\\d+)', cve_string)\n",
    "    return match.group(1) if match else None\n",
    "\n",
    "train_dataset = train_dataset_.map(lambda example: {\n",
    "    'instruction': \"Based on the following code diff, generate the corresponding summary about CVE description and commit message of \" + extract_cve(example['__index_level_0__']) + \".\",\n",
    "    'input': example['code_diff'],\n",
    "    'output': example['cve_desc']\n",
    "})\n",
    "# Remove unnecessary features like __index_level_0__\n",
    "train_dataset = train_dataset.remove_columns(['__index_level_0__', 'code_diff', 'cve_desc'])\n",
    "\n",
    "# Check the modified dataset\n",
    "print(train_dataset[1])\n"
   ]
  },
  {
   "cell_type": "code",
   "execution_count": null,
   "metadata": {},
   "outputs": [],
   "source": [
    "import json\n",
    "\n",
    "# Convert the dataset to a list of dictionaries\n",
    "dataset_as_list = [train_dataset[i] for i in range(len(train_dataset))]\n",
    "\n",
    "# Save to JSON\n",
    "with open('diff2text_train.json', 'w') as f:\n",
    "    json.dump(dataset_as_list, f, indent=4)\n"
   ]
  }
 ],
 "metadata": {
  "language_info": {
   "name": "python"
  }
 },
 "nbformat": 4,
 "nbformat_minor": 2
}
